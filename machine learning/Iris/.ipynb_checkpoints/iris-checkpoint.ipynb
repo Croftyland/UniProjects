{
 "cells": [
  {
   "cell_type": "code",
   "execution_count": 13,
   "metadata": {},
   "outputs": [
    {
     "ename": "NameError",
     "evalue": "name 'python' is not defined",
     "output_type": "error",
     "traceback": [
      "\u001b[0;31m---------------------------------------------------------------------------\u001b[0m",
      "\u001b[0;31mNameError\u001b[0m                                 Traceback (most recent call last)",
      "\u001b[0;32m<ipython-input-13-32886514c262>\u001b[0m in \u001b[0;36m<module>\u001b[0;34m()\u001b[0m\n\u001b[0;32m----> 1\u001b[0;31m \u001b[0mpython\u001b[0m\u001b[0;34m\u001b[0m\u001b[0m\n\u001b[0m",
      "\u001b[0;31mNameError\u001b[0m: name 'python' is not defined"
     ]
    }
   ],
   "source": [
    "python"
   ]
  },
  {
   "cell_type": "code",
   "execution_count": 12,
   "metadata": {},
   "outputs": [
    {
     "name": "stdout",
     "output_type": "stream",
     "text": [
      "Requirement already satisfied: scipy in /System/Library/Frameworks/Python.framework/Versions/2.7/Extras/lib/python (0.13.0b1)\n",
      "Requirement already satisfied: matplotlib in /System/Library/Frameworks/Python.framework/Versions/2.7/Extras/lib/python (1.3.1)\n",
      "Requirement already satisfied: ipython in /Users/ChristinaLandvytovych/Library/Python/2.7/lib/python/site-packages (5.8.0)\n",
      "Requirement already satisfied: jupyter in /Users/ChristinaLandvytovych/Library/Python/2.7/lib/python/site-packages (1.0.0)\n",
      "Requirement already satisfied: pandas in /Users/ChristinaLandvytovych/Library/Python/2.7/lib/python/site-packages (0.23.4)\n",
      "Requirement already satisfied: sympy in /Users/ChristinaLandvytovych/Library/Python/2.7/lib/python/site-packages (1.3)\n",
      "Requirement already satisfied: nose in /Users/ChristinaLandvytovych/Library/Python/2.7/lib/python/site-packages (1.3.7)\n",
      "Requirement already satisfied: numpy>=1.5 in /System/Library/Frameworks/Python.framework/Versions/2.7/Extras/lib/python (from matplotlib) (1.8.0rc1)\n",
      "Requirement already satisfied: python-dateutil in /System/Library/Frameworks/Python.framework/Versions/2.7/Extras/lib/python (from matplotlib) (1.5)\n",
      "Requirement already satisfied: tornado in /Users/ChristinaLandvytovych/Library/Python/2.7/lib/python/site-packages (from matplotlib) (5.1.1)\n",
      "Requirement already satisfied: pyparsing>=1.5.6 in /System/Library/Frameworks/Python.framework/Versions/2.7/Extras/lib/python (from matplotlib) (2.0.1)\n",
      "Requirement already satisfied: simplegeneric>0.8 in /Users/ChristinaLandvytovych/Library/Python/2.7/lib/python/site-packages (from ipython) (0.8.1)\n",
      "Requirement already satisfied: decorator in /Users/ChristinaLandvytovych/Library/Python/2.7/lib/python/site-packages (from ipython) (4.3.0)\n",
      "Requirement already satisfied: pygments in /Users/ChristinaLandvytovych/Library/Python/2.7/lib/python/site-packages (from ipython) (2.2.0)\n",
      "Requirement already satisfied: backports.shutil-get-terminal-size; python_version == \"2.7\" in /Users/ChristinaLandvytovych/Library/Python/2.7/lib/python/site-packages (from ipython) (1.0.0)\n",
      "Requirement already satisfied: pexpect; sys_platform != \"win32\" in /Users/ChristinaLandvytovych/Library/Python/2.7/lib/python/site-packages (from ipython) (4.6.0)\n",
      "Requirement already satisfied: prompt-toolkit<2.0.0,>=1.0.4 in /Users/ChristinaLandvytovych/Library/Python/2.7/lib/python/site-packages (from ipython) (1.0.15)\n",
      "Requirement already satisfied: setuptools>=18.5 in /System/Library/Frameworks/Python.framework/Versions/2.7/Extras/lib/python (from ipython) (18.5)\n",
      "Requirement already satisfied: pickleshare in /Users/ChristinaLandvytovych/Library/Python/2.7/lib/python/site-packages (from ipython) (0.7.5)\n",
      "Requirement already satisfied: appnope; sys_platform == \"darwin\" in /Users/ChristinaLandvytovych/Library/Python/2.7/lib/python/site-packages (from ipython) (0.1.0)\n",
      "Requirement already satisfied: traitlets>=4.2 in /Users/ChristinaLandvytovych/Library/Python/2.7/lib/python/site-packages (from ipython) (4.3.2)\n",
      "Requirement already satisfied: pathlib2; python_version == \"2.7\" or python_version == \"3.3\" in /Users/ChristinaLandvytovych/Library/Python/2.7/lib/python/site-packages (from ipython) (2.3.2)\n",
      "Requirement already satisfied: qtconsole in /Users/ChristinaLandvytovych/Library/Python/2.7/lib/python/site-packages (from jupyter) (4.4.1)\n",
      "Requirement already satisfied: notebook in /Users/ChristinaLandvytovych/Library/Python/2.7/lib/python/site-packages (from jupyter) (5.7.0)\n",
      "Requirement already satisfied: nbconvert in /Users/ChristinaLandvytovych/Library/Python/2.7/lib/python/site-packages (from jupyter) (5.4.0)\n",
      "Requirement already satisfied: ipywidgets in /Users/ChristinaLandvytovych/Library/Python/2.7/lib/python/site-packages (from jupyter) (7.4.2)\n",
      "Requirement already satisfied: jupyter-console in /Users/ChristinaLandvytovych/Library/Python/2.7/lib/python/site-packages (from jupyter) (5.2.0)\n",
      "Requirement already satisfied: ipykernel in /Users/ChristinaLandvytovych/Library/Python/2.7/lib/python/site-packages (from jupyter) (4.10.0)\n",
      "Requirement already satisfied: pytz>=2011k in /System/Library/Frameworks/Python.framework/Versions/2.7/Extras/lib/python (from pandas) (2013.7)\n",
      "Requirement already satisfied: mpmath>=0.19 in /Users/ChristinaLandvytovych/Library/Python/2.7/lib/python/site-packages (from sympy) (1.0.0)\n",
      "Requirement already satisfied: futures in /Users/ChristinaLandvytovych/Library/Python/2.7/lib/python/site-packages (from tornado->matplotlib) (3.2.0)\n",
      "Requirement already satisfied: singledispatch in /Users/ChristinaLandvytovych/Library/Python/2.7/lib/python/site-packages (from tornado->matplotlib) (3.4.0.3)\n",
      "Requirement already satisfied: backports-abc>=0.4 in /Users/ChristinaLandvytovych/Library/Python/2.7/lib/python/site-packages (from tornado->matplotlib) (0.5)\n",
      "Requirement already satisfied: ptyprocess>=0.5 in /Users/ChristinaLandvytovych/Library/Python/2.7/lib/python/site-packages (from pexpect; sys_platform != \"win32\"->ipython) (0.6.0)\n",
      "Requirement already satisfied: wcwidth in /Users/ChristinaLandvytovych/Library/Python/2.7/lib/python/site-packages (from prompt-toolkit<2.0.0,>=1.0.4->ipython) (0.1.7)\n",
      "Requirement already satisfied: six>=1.9.0 in /Users/ChristinaLandvytovych/Library/Python/2.7/lib/python/site-packages (from prompt-toolkit<2.0.0,>=1.0.4->ipython) (1.11.0)\n",
      "Requirement already satisfied: enum34; python_version == \"2.7\" in /Users/ChristinaLandvytovych/Library/Python/2.7/lib/python/site-packages (from traitlets>=4.2->ipython) (1.1.6)\n",
      "Requirement already satisfied: ipython-genutils in /Users/ChristinaLandvytovych/Library/Python/2.7/lib/python/site-packages (from traitlets>=4.2->ipython) (0.2.0)\n",
      "Requirement already satisfied: scandir; python_version < \"3.5\" in /Users/ChristinaLandvytovych/Library/Python/2.7/lib/python/site-packages (from pathlib2; python_version == \"2.7\" or python_version == \"3.3\"->ipython) (1.9.0)\n",
      "Requirement already satisfied: jupyter-client>=4.1 in /Users/ChristinaLandvytovych/Library/Python/2.7/lib/python/site-packages (from qtconsole->jupyter) (5.2.3)\n",
      "Requirement already satisfied: jupyter-core in /Users/ChristinaLandvytovych/Library/Python/2.7/lib/python/site-packages (from qtconsole->jupyter) (4.4.0)\n",
      "Requirement already satisfied: prometheus-client in /Users/ChristinaLandvytovych/Library/Python/2.7/lib/python/site-packages (from notebook->jupyter) (0.3.1)\n",
      "Requirement already satisfied: nbformat in /Users/ChristinaLandvytovych/Library/Python/2.7/lib/python/site-packages (from notebook->jupyter) (4.4.0)\n",
      "Requirement already satisfied: terminado>=0.8.1 in /Users/ChristinaLandvytovych/Library/Python/2.7/lib/python/site-packages (from notebook->jupyter) (0.8.1)\n",
      "Requirement already satisfied: pyzmq>=17 in /Users/ChristinaLandvytovych/Library/Python/2.7/lib/python/site-packages (from notebook->jupyter) (17.1.2)\n",
      "Requirement already satisfied: jinja2 in /Users/ChristinaLandvytovych/Library/Python/2.7/lib/python/site-packages (from notebook->jupyter) (2.10)\n",
      "Requirement already satisfied: Send2Trash in /Users/ChristinaLandvytovych/Library/Python/2.7/lib/python/site-packages (from notebook->jupyter) (1.5.0)\n",
      "Requirement already satisfied: ipaddress; python_version == \"2.7\" in /Users/ChristinaLandvytovych/Library/Python/2.7/lib/python/site-packages (from notebook->jupyter) (1.0.22)\n",
      "Requirement already satisfied: entrypoints>=0.2.2 in /Users/ChristinaLandvytovych/Library/Python/2.7/lib/python/site-packages (from nbconvert->jupyter) (0.2.3)\n",
      "Requirement already satisfied: bleach in /Users/ChristinaLandvytovych/Library/Python/2.7/lib/python/site-packages (from nbconvert->jupyter) (2.1.4)\n",
      "Requirement already satisfied: pandocfilters>=1.4.1 in /Users/ChristinaLandvytovych/Library/Python/2.7/lib/python/site-packages (from nbconvert->jupyter) (1.4.2)\n",
      "Requirement already satisfied: defusedxml in /Users/ChristinaLandvytovych/Library/Python/2.7/lib/python/site-packages (from nbconvert->jupyter) (0.5.0)\n",
      "Requirement already satisfied: testpath in /Users/ChristinaLandvytovych/Library/Python/2.7/lib/python/site-packages (from nbconvert->jupyter) (0.4.1)\n",
      "Requirement already satisfied: mistune>=0.8.1 in /Users/ChristinaLandvytovych/Library/Python/2.7/lib/python/site-packages (from nbconvert->jupyter) (0.8.3)\n",
      "Requirement already satisfied: widgetsnbextension~=3.4.0 in /Users/ChristinaLandvytovych/Library/Python/2.7/lib/python/site-packages (from ipywidgets->jupyter) (3.4.2)\n",
      "Requirement already satisfied: jsonschema!=2.5.0,>=2.4 in /Users/ChristinaLandvytovych/Library/Python/2.7/lib/python/site-packages (from nbformat->notebook->jupyter) (2.6.0)\n",
      "Requirement already satisfied: MarkupSafe>=0.23 in /Users/ChristinaLandvytovych/Library/Python/2.7/lib/python/site-packages (from jinja2->notebook->jupyter) (1.0)\n",
      "Requirement already satisfied: configparser>=3.5; python_version == \"2.7\" in /Users/ChristinaLandvytovych/Library/Python/2.7/lib/python/site-packages (from entrypoints>=0.2.2->nbconvert->jupyter) (3.5.0)\n",
      "Requirement already satisfied: html5lib!=1.0b1,!=1.0b2,!=1.0b3,!=1.0b4,!=1.0b5,!=1.0b6,!=1.0b7,!=1.0b8,>=0.99999999pre in /Users/ChristinaLandvytovych/Library/Python/2.7/lib/python/site-packages (from bleach->nbconvert->jupyter) (1.0.1)\n"
     ]
    },
    {
     "name": "stdout",
     "output_type": "stream",
     "text": [
      "Requirement already satisfied: functools32; python_version == \"2.7\" in /Users/ChristinaLandvytovych/Library/Python/2.7/lib/python/site-packages (from jsonschema!=2.5.0,>=2.4->nbformat->notebook->jupyter) (3.2.3.post2)\n",
      "Requirement already satisfied: webencodings in /Users/ChristinaLandvytovych/Library/Python/2.7/lib/python/site-packages (from html5lib!=1.0b1,!=1.0b2,!=1.0b3,!=1.0b4,!=1.0b5,!=1.0b6,!=1.0b7,!=1.0b8,>=0.99999999pre->bleach->nbconvert->jupyter) (0.5.1)\n",
      "\u001b[31mpandas 0.23.4 has requirement numpy>=1.9.0, but you'll have numpy 1.8.0rc1 which is incompatible.\u001b[0m\n",
      "\u001b[31mpandas 0.23.4 has requirement python-dateutil>=2.5.0, but you'll have python-dateutil 1.5 which is incompatible.\u001b[0m\n",
      "\u001b[31mjupyter-client 5.2.3 has requirement python-dateutil>=2.1, but you'll have python-dateutil 1.5 which is incompatible.\u001b[0m\n",
      "\u001b[33mYou are using pip version 10.0.1, however version 18.0 is available.\n",
      "You should consider upgrading via the 'pip install --upgrade pip' command.\u001b[0m\n"
     ]
    }
   ],
   "source": [
    "!pip install scipy matplotlib ipython jupyter pandas sympy nose"
   ]
  },
  {
   "cell_type": "code",
   "execution_count": 5,
   "metadata": {},
   "outputs": [
    {
     "ename": "ModuleNotFoundError",
     "evalue": "No module named 'sklearn'",
     "output_type": "error",
     "traceback": [
      "\u001b[0;31m---------------------------------------------------------------------------\u001b[0m",
      "\u001b[0;31mModuleNotFoundError\u001b[0m                       Traceback (most recent call last)",
      "\u001b[0;32m<ipython-input-5-df1a965da9ed>\u001b[0m in \u001b[0;36m<module>\u001b[0;34m()\u001b[0m\n\u001b[1;32m      3\u001b[0m \u001b[0;32mfrom\u001b[0m \u001b[0mpandas\u001b[0m\u001b[0;34m.\u001b[0m\u001b[0mplotting\u001b[0m \u001b[0;32mimport\u001b[0m \u001b[0mscatter_matrix\u001b[0m\u001b[0;34m\u001b[0m\u001b[0m\n\u001b[1;32m      4\u001b[0m \u001b[0;32mimport\u001b[0m \u001b[0mmatplotlib\u001b[0m\u001b[0;34m.\u001b[0m\u001b[0mpyplot\u001b[0m \u001b[0;32mas\u001b[0m \u001b[0mplt\u001b[0m\u001b[0;34m\u001b[0m\u001b[0m\n\u001b[0;32m----> 5\u001b[0;31m \u001b[0;32mfrom\u001b[0m \u001b[0msklearn\u001b[0m \u001b[0;32mimport\u001b[0m \u001b[0mmodel_selection\u001b[0m\u001b[0;34m\u001b[0m\u001b[0m\n\u001b[0m\u001b[1;32m      6\u001b[0m \u001b[0;32mfrom\u001b[0m \u001b[0msklearn\u001b[0m\u001b[0;34m.\u001b[0m\u001b[0mmetrics\u001b[0m \u001b[0;32mimport\u001b[0m \u001b[0mclassification_report\u001b[0m\u001b[0;34m\u001b[0m\u001b[0m\n\u001b[1;32m      7\u001b[0m \u001b[0;32mfrom\u001b[0m \u001b[0msklearn\u001b[0m\u001b[0;34m.\u001b[0m\u001b[0mmetrics\u001b[0m \u001b[0;32mimport\u001b[0m \u001b[0mconfusion_matrix\u001b[0m\u001b[0;34m\u001b[0m\u001b[0m\n",
      "\u001b[0;31mModuleNotFoundError\u001b[0m: No module named 'sklearn'"
     ]
    }
   ],
   "source": [
    "# Load libraries\n",
    "import pandas\n",
    "from pandas.plotting import scatter_matrix\n",
    "import matplotlib.pyplot as plt\n",
    "from sklearn import model_selection\n",
    "from sklearn.metrics import classification_report\n",
    "from sklearn.metrics import confusion_matrix\n",
    "from sklearn.metrics import accuracy_score\n",
    "from sklearn.linear_model import LogisticRegression\n",
    "from sklearn.tree import DecisionTreeClassifier\n",
    "from sklearn.neighbors import KNeighborsClassifier\n",
    "from sklearn.discriminant_analysis import LinearDiscriminantAnalysis\n",
    "from sklearn.naive_bayes import GaussianNB\n",
    "from sklearn.svm import SVC"
   ]
  },
  {
   "cell_type": "code",
   "execution_count": null,
   "metadata": {},
   "outputs": [],
   "source": [
    "# Load dataset\n",
    "url = \"https://raw.githubusercontent.com/jbrownlee/Datasets/master/iris.csv\"\n",
    "names = ['sepal-length', 'sepal-width', 'petal-length', 'petal-width', 'class']\n",
    "dataset = pandas.read_csv(url, names=names)"
   ]
  },
  {
   "cell_type": "code",
   "execution_count": null,
   "metadata": {},
   "outputs": [],
   "source": [
    "# shape\n",
    "print(dataset.shape)"
   ]
  },
  {
   "cell_type": "code",
   "execution_count": null,
   "metadata": {},
   "outputs": [],
   "source": [
    "# head\n",
    "print(dataset.head(20))"
   ]
  },
  {
   "cell_type": "code",
   "execution_count": null,
   "metadata": {},
   "outputs": [],
   "source": [
    "# descriptions\n",
    "print(dataset.describe())"
   ]
  },
  {
   "cell_type": "code",
   "execution_count": null,
   "metadata": {},
   "outputs": [],
   "source": [
    "# class distribution\n",
    "print(dataset.groupby('class').size())"
   ]
  },
  {
   "cell_type": "code",
   "execution_count": null,
   "metadata": {},
   "outputs": [],
   "source": [
    "# box and whisker plots\n",
    "dataset.plot(kind='box', subplots=True, layout=(2, 2), sharex=False, sharey=False)\n",
    "plt.show()"
   ]
  },
  {
   "cell_type": "code",
   "execution_count": null,
   "metadata": {},
   "outputs": [],
   "source": [
    "# histograms\n",
    "dataset.hist()\n",
    "plt.show()"
   ]
  },
  {
   "cell_type": "code",
   "execution_count": null,
   "metadata": {},
   "outputs": [],
   "source": [
    "# scatter plot matrix\n",
    "scatter_matrix(dataset)\n",
    "plt.show()"
   ]
  },
  {
   "cell_type": "code",
   "execution_count": null,
   "metadata": {},
   "outputs": [],
   "source": [
    "# Split-out validation dataset\n",
    "array = dataset.values\n",
    "X = array[:, 0:4]\n",
    "Y = array[:, 4]\n",
    "validation_size = 0.20\n",
    "seed = 7\n",
    "X_train, X_validation, Y_train, Y_validation = model_selection.train_test_split(X, Y, test_size=validation_size,random_state=seed)"
   ]
  },
  {
   "cell_type": "code",
   "execution_count": null,
   "metadata": {},
   "outputs": [],
   "source": [
    "# Test options and evaluation metric\n",
    "seed = 7\n",
    "scoring = 'accuracy'"
   ]
  },
  {
   "cell_type": "code",
   "execution_count": null,
   "metadata": {},
   "outputs": [],
   "source": [
    "# Spot Check Algorithms\n",
    "models = []\n",
    "models.append(('LR', LogisticRegression()))\n",
    "models.append(('LDA', LinearDiscriminantAnalysis()))\n",
    "models.append(('KNN', KNeighborsClassifier()))\n",
    "models.append(('CART', DecisionTreeClassifier()))\n",
    "models.append(('NB', GaussianNB()))\n",
    "models.append(('SVM', SVC()))"
   ]
  },
  {
   "cell_type": "code",
   "execution_count": null,
   "metadata": {},
   "outputs": [],
   "source": [
    "# evaluate each model in turn\n",
    "results = []\n",
    "names = []\n",
    "for name, model in models:\n",
    "    kfold = model_selection.KFold(n_splits=10, random_state=seed)\n",
    "    cv_results = model_selection.cross_val_score(model, X_train, Y_train, cv=kfold, scoring=scoring)\n",
    "    results.append(cv_results)\n",
    "    names.append(name)\n",
    "    msg = \"%s: %f (%f)\" % (name, cv_results.mean(), cv_results.std())\n",
    "    print(msg)"
   ]
  },
  {
   "cell_type": "code",
   "execution_count": null,
   "metadata": {},
   "outputs": [],
   "source": [
    "# Compare Algorithms\n",
    "fig = plt.figure()\n",
    "fig.suptitle('Algorithm Comparison')\n",
    "ax = fig.add_subplot(111)\n",
    "plt.boxplot(results)\n",
    "ax.set_xticklabels(names)\n",
    "plt.show()"
   ]
  },
  {
   "cell_type": "code",
   "execution_count": null,
   "metadata": {},
   "outputs": [],
   "source": [
    "# Make predictions on validation dataset\n",
    "knn = KNeighborsClassifier()\n",
    "knn.fit(X_train, Y_train)\n",
    "predictions = knn.predict(X_validation)\n",
    "print(accuracy_score(Y_validation, predictions))\n",
    "print(confusion_matrix(Y_validation, predictions))\n",
    "print(classification_report(Y_validation, predictions))"
   ]
  }
 ],
 "metadata": {
  "kernelspec": {
   "display_name": "Python 3",
   "language": "python",
   "name": "python3"
  },
  "language_info": {
   "codemirror_mode": {
    "name": "ipython",
    "version": 3
   },
   "file_extension": ".py",
   "mimetype": "text/x-python",
   "name": "python",
   "nbconvert_exporter": "python",
   "pygments_lexer": "ipython3",
   "version": "3.6.5"
  }
 },
 "nbformat": 4,
 "nbformat_minor": 1
}
